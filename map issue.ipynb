{
 "cells": [
  {
   "cell_type": "markdown",
   "metadata": {},
   "source": [
    "\n",
    "<table>\n",
    "\n",
    "<tr><td><img src=\"https://s11.postimg.org/v84szut33/image.png\" /></td>\n",
    "<td>User loads the page.  No calls yet to the API. Using `limit=4`</td></tr>\n",
    "\n",
    "<tr><td><img src=\"https://s11.postimg.org/5qmeg9bcv/image.png\" /></td>\n",
    "<td>First 4 results come back (in purple) and are rendered.  More to download.</td></tr>\n",
    "\n",
    "<tr><td><img src=\"https://s11.postimg.org/76xwyee9r/image.png\" /></td>\n",
    "<td>Next four downloaded.  For given viewport/radius, all results now downloaded.</td></tr>\n",
    "\n",
    "<tr><td><img src=\"https://s11.postimg.org/ixbufs727/image.png\" /></td>\n",
    "<td>User moved viewport.  Need to call API with new radius.</td></tr>\n",
    "\n",
    "<tr><td><img src=\"https://s11.postimg.org/79hsl8hxb/image.png\" /></td>\n",
    "<td>Call to API returns four redundant properties.  Local cache knows this and dedupes, but its inefficient</td></tr>\n",
    "\n",
    "<tr><td><img src=\"https://s11.postimg.org/x6bgxulkv/image.png\" /></td>\n",
    "<td>Remaining listings downloaded, slower than they might have been.</td></tr>\n",
    "\n",
    "</table>"
   ]
  }
 ],
 "metadata": {
  "kernelspec": {
   "display_name": "Python 2",
   "language": "python",
   "name": "python2"
  },
  "language_info": {
   "codemirror_mode": {
    "name": "ipython",
    "version": 2
   },
   "file_extension": ".py",
   "mimetype": "text/x-python",
   "name": "python",
   "nbconvert_exporter": "python",
   "pygments_lexer": "ipython2",
   "version": "2.7.12"
  }
 },
 "nbformat": 4,
 "nbformat_minor": 1
}
